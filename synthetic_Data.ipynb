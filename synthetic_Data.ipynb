{
 "cells": [
  {
   "cell_type": "markdown",
   "id": "15802017",
   "metadata": {},
   "source": [
    "### Install Requirements"
   ]
  },
  {
   "cell_type": "code",
   "execution_count": null,
   "id": "a592cb02",
   "metadata": {},
   "outputs": [],
   "source": [
    "!pip3 install langchain-core langchain-ollama chromadb langchain-chroma"
   ]
  },
  {
   "cell_type": "markdown",
   "id": "ae32befc",
   "metadata": {},
   "source": [
    "### Imports"
   ]
  },
  {
   "cell_type": "code",
   "execution_count": null,
   "id": "7a18d883-0968-4cda-b013-f405519b0c9a",
   "metadata": {},
   "outputs": [],
   "source": [
    "from langchain_core.prompts import ChatPromptTemplate\n",
    "from langchain_core.prompts import PromptTemplate\n",
    "from langchain_ollama.llms import OllamaLLM\n",
    "from chromadb.config import Settings\n",
    "from langchain_chroma import Chroma\n",
    "from langchain_ollama import OllamaEmbeddings\n",
    "from uuid import uuid4\n",
    "from langchain_core.documents import Document\n",
    "from langchain_core.runnables import RunnablePassthrough"
   ]
  },
  {
   "cell_type": "markdown",
   "id": "ddd2824c",
   "metadata": {},
   "source": [
    "### Load Ollama Model "
   ]
  },
  {
   "cell_type": "code",
   "execution_count": 15,
   "id": "f1c44fb2-b78d-44b3-a948-d1412a2c258b",
   "metadata": {},
   "outputs": [],
   "source": [
    "model = OllamaLLM(model=\"llama3.1\")"
   ]
  },
  {
   "cell_type": "code",
   "execution_count": null,
   "id": "f21a7a45-b072-4329-b2ae-eb887ac374d9",
   "metadata": {},
   "outputs": [],
   "source": []
  },
  {
   "cell_type": "markdown",
   "id": "0b8b7ac0",
   "metadata": {},
   "source": [
    "### Now add sample data to vector database"
   ]
  },
  {
   "cell_type": "code",
   "execution_count": 16,
   "id": "532aafbb-e071-4273-a7b3-7b27d70284de",
   "metadata": {},
   "outputs": [],
   "source": [
    "knowledge_base = [\n",
    "        \"A 52-year-old male presents with Type 2 Diabetes and is currently on Metformin 500 mg twice daily. He has a history of obesity, hypertension (treated with Lisinopril 10 mg daily), and hyperlipidemia (treated with Atorvastatin 20 mg daily). His HbA1c is 8.3%, and his fasting blood glucose levels average 160 mg/dL. The patient is experiencing mild peripheral neuropathy and has been recommended lifestyle changes, including a low-carbohydrate diet and increased physical activity.\",\n",
    "        \"A 65-year-old female with a history of chronic obstructive pulmonary disease (COPD) and smoking (40-pack-year history). She was diagnosed with mild heart failure (NYHA Class II) and has been on Furosemide 40 mg daily. Her symptoms include dyspnea on exertion and occasional ankle swelling. Pulmonary function tests revealed an FEV1/FVC ratio of 60%. The patient was advised to undergo smoking cessation and pulmonary rehabilitation.\",\n",
    "        \"A 45-year-old male presents with newly diagnosed atrial fibrillation. He has a history of untreated hyperthyroidism and recent onset of palpitations and dizziness. His current ECG shows an irregularly irregular rhythm with a ventricular rate of 110 bpm. The patient is started on Metoprolol 25 mg twice daily, and thyroid function tests are pending. He is advised to follow up for a possible referral for catheter ablation if symptoms persist.\",\n",
    "        \"A 72-year-old female presents with progressive dementia and is currently in the moderate stage of Alzheimer's disease. She has been on Donepezil 10 mg daily and Memantine 10 mg twice daily for the past year. Her symptoms include increasing forgetfulness, difficulty with daily tasks, and occasional episodes of confusion. The patient's family has been counseled on long-term care options, including assisted living and home care.\",\n",
    "        \"A 60-year-old male with a history of myocardial infarction 3 years ago presents for a follow-up. He has been on dual antiplatelet therapy (Aspirin 81 mg and Clopidogrel 75 mg daily) and Atorvastatin 40 mg. His LDL cholesterol level is currently 85 mg/dL. The patient follows a Mediterranean diet and engages in regular cardiovascular exercise. He has been advised to continue current medications and return in 6 months for a stress test.\",\n",
    "        \"A 35-year-old female with newly diagnosed multiple sclerosis (MS). The patient presents with fatigue, blurred vision, and muscle weakness, which began 6 months ago. MRI of the brain and spinal cord reveals demyelinating lesions consistent with MS. She has been started on Glatiramer acetate injections and corticosteroids for acute exacerbation management. The patient has also been referred for physical therapy and counseling for disease management.\",\n",
    "        \"A 50-year-old male with a 10-year history of rheumatoid arthritis, currently treated with Methotrexate 20 mg weekly and adalimumab injections every 2 weeks. He presents with increased joint pain and stiffness in the hands and knees, particularly in the morning. Lab work shows elevated C-reactive protein (CRP) and erythrocyte sedimentation rate (ESR). The patient was advised to consider biologic escalation and has been referred to a rheumatologist for further evaluation.\",\n",
    "        \"A 28-year-old female presents with gestational diabetes mellitus (GDM) at 28 weeks of pregnancy. She has been monitoring her blood glucose levels and has started insulin therapy (NPH insulin 10 units in the morning and 8 units at night). Fasting glucose levels remain within the 90-110 mg/dL range. The patient is advised to maintain a healthy diet, exercise regularly, and continue monitoring blood sugar levels at home. A follow-up ultrasound is scheduled to assess fetal growth. \",\n",
    "        \"A 67-year-old male with a history of chronic kidney disease (stage 3) and hypertension presents with worsening kidney function. His current serum creatinine is 2.1 mg/dL, and his estimated glomerular filtration rate (eGFR) is 45 mL/min. The patient is on Lisinopril 20 mg daily and a low-sodium diet. He has been referred to a nephrologist for further evaluation, and his antihypertensive medication is being closely monitored to prevent further kidney damage.\",\n",
    "        \"Clinical Guideline 1: Management of Hypertension in Adults: Hypertension management involves lifestyle changes (dietary sodium reduction, weight loss, physical activity) and pharmacologic treatment. First-line agents include ACE inhibitors, ARBs, calcium channel blockers, and thiazide diuretics. Patients with comorbidities such as diabetes or chronic kidney disease should be managed with ACE inhibitors or ARBs for renal protection. Blood pressure targets are generally below 130/80 mmHg for high-risk individuals.\",\n",
    "        \"Clinical Guideline 2: Diabetes Mellitus Management: Type 2 Diabetes management focuses on lifestyle modifications (healthy diet, physical activity) and pharmacologic interventions. First-line therapy includes Metformin, with the addition of GLP-1 receptor agonists or SGLT2 inhibitors for patients at high cardiovascular risk. Monitoring should include regular HbA1c checks (every 3-6 months) and annual screenings for diabetic retinopathy, nephropathy, and neuropathy.\",\n",
    "        \"A 54-year-old female presents with advanced breast cancer (Stage III, ER/PR-positive, HER2-negative). She has undergone a mastectomy and is currently receiving chemotherapy (doxorubicin and cyclophosphamide). The patient is experiencing side effects, including nausea and fatigue, and is managed with antiemetics and lifestyle changes. She will begin hormone therapy with Tamoxifen after completing chemotherapy.\",\n",
    "        \"A 38-year-old male presents with newly diagnosed Crohn's disease, experiencing chronic diarrhea, abdominal pain, and weight loss. Colonoscopy revealed inflammation and ulcerations in the terminal ileum. He has been started on mesalamine and corticosteroids for inflammation control. The patient is also scheduled for a follow-up to assess treatment efficacy and possible escalation to biologics if necessary.\",\n",
    "        \"A 25-year-old female with a history of polycystic ovary syndrome (PCOS) presents with irregular menstrual cycles and weight gain. The patient has been on combined oral contraceptives for cycle regulation and Metformin for insulin resistance. Lifestyle modifications, including a low-glycemic-index diet and increased physical activity, have been recommended. The patient is also being monitored for potential development of type 2 diabetes.\",\n",
    "        \"A 40-year-old male with obesity (BMI 35) presents with obstructive sleep apnea (OSA) and loud snoring. He underwent a sleep study, which revealed moderate OSA with an apnea-hypopnea index (AHI) of 20. The patient has been started on continuous positive airway pressure (CPAP) therapy at night and has been advised to lose weight. Follow-up is scheduled to evaluate treatment effectiveness and consider further interventions if necessary.\",\n",
    "        \"A 30-year-old female with a history of migraine presents with severe, recurring headaches that are associated with nausea, vomiting, and photophobia. The patient is currently on Sumatriptan 100 mg as needed, but she reports frequent attacks (4-5 per month). She has been advised to start on Propranolol 40 mg daily as a preventive treatment, with follow-up planned in 3 months to evaluate the reduction in attack frequency.\",\n",
    "        \"A 45-year-old male presents with newly diagnosed non-alcoholic fatty liver disease (NAFLD). The patient is overweight (BMI 32) with mild elevation in liver enzymes (ALT 65 U/L, AST 58 U/L). He has been advised to lose weight through diet and exercise, targeting a 7-10% weight reduction. The patient was also counseled on the risks of progression to non-alcoholic steatohepatitis (NASH) and cirrhosis if lifestyle modifications are not followed.\",\n",
    "        \"A 68-year-old male with a history of Parkinson's disease presents with worsening tremors and bradykinesia. He is currently taking Levodopa-Carbidopa 100/25 mg three times daily but reports increasing difficulty with daily activities such as dressing and eating. His neurologist recommended adjusting his medication dosage and adding a dopamine agonist (Pramipexole) to improve motor symptoms. He will follow up in 3 months to reassess motor function.\",\n",
    "        \"A 70-year-old female presents with advanced chronic kidney disease (Stage 4, eGFR 25 mL/min). The patient is hypertensive and currently on Losartan 100 mg daily, with controlled blood pressure (130/80 mmHg). She has been advised to follow a low-sodium, low-protein diet and referred to a nephrologist for pre-dialysis counseling. Hemoglobin levels are being monitored for anemia management, and erythropoietin therapy is under consideration.\",\n",
    "        \"A 62-year-old male with a 15-year history of type 2 diabetes and diabetic nephropathy presents with albuminuria (urine albumin-to-creatinine ratio of 300 mg/g). He is currently on Metformin 1000 mg twice daily and Lisinopril 10 mg daily for renal protection. Blood pressure is well controlled at 120/75 mmHg. The patient has been counseled on tight glycemic control, targeting an HbA1c of less than 7%, and a low-protein diet to slow kidney disease progression.\",\n",
    "        \"A 55-year-old female with a history of breast cancer (Stage II, ER-positive) presents for a follow-up. She underwent a lumpectomy and radiation therapy 18 months ago and is currently on Tamoxifen 20 mg daily. She reports mild hot flashes and joint stiffness as side effects. A recent mammogram and ultrasound showed no evidence of disease recurrence. The patient has been advised to continue Tamoxifen and return in 6 months for routine follow-up.\",\n",
    "        \"A 75-year-old male with a history of stroke 5 years ago presents with mild cognitive decline and worsening balance. He is on Aspirin 81 mg daily for stroke prevention and Simvastatin 40 mg for hyperlipidemia. His Mini-Mental State Examination (MMSE) score is 25/30, indicating mild cognitive impairment. The patient has been referred for physical therapy to improve balance and prevent falls. Cognitive stimulation exercises are also recommended.\",\n",
    "        \"A 23-year-old female presents with newly diagnosed generalized anxiety disorder (GAD). She reports persistent worry, muscle tension, and difficulty concentrating, particularly over the past 6 months. The patient has been started on Sertraline 50 mg daily and referred for cognitive-behavioral therapy (CBT). She has also been advised to engage in relaxation exercises and mindfulness practices. A follow-up is planned in 4 weeks to assess symptom improvement.\",\n",
    "        \"A 50-year-old male presents with severe osteoarthritis of the right knee, with joint pain, stiffness, and swelling, which has worsened over the last year. He has tried conservative management, including physical therapy and NSAIDs (Ibuprofen 600 mg). Due to his poor response, the patient has been referred for orthopedic evaluation and is considering total knee arthroplasty (knee replacement surgery). He is also receiving injections of corticosteroids to reduce inflammation while awaiting surgery.\",\n",
    "        \"A 40-year-old female with a history of hypothyroidism presents for a follow-up. She is on Levothyroxine 100 mcg daily, and her most recent thyroid-stimulating hormone (TSH) level is within the normal range at 1.8 mIU/L. The patient reports stable energy levels and no significant symptoms. She has been advised to continue her current dose and return in 6 months for a routine check of TSH levels.\",\n",
    "        \"A 65-year-old male with a history of prostate cancer, currently in remission, presents for routine monitoring. He had undergone a radical prostatectomy 3 years ago and completed adjuvant radiation therapy. His most recent prostate-specific antigen (PSA) level is undetectable, and there are no signs of recurrence. The patient remains asymptomatic and has been advised to continue PSA monitoring every 6 months.\",\n",
    "        \"A 16-year-old male with newly diagnosed asthma presents with wheezing and shortness of breath, particularly during exercise. Spirometry shows an FEV1/FVC ratio of 70%. The patient has been started on Albuterol inhaler as needed for acute symptoms and Fluticasone inhaler twice daily for long-term control. He has been advised on asthma triggers, including allergens and exercise, and to follow up in 1 month for reassessment of lung function.\",\n",
    "        \"Management of Chronic Obstructive Pulmonary Disease (COPD): COPD management focuses on reducing symptoms, improving quality of life, and preventing exacerbations. First-line therapy includes inhaled bronchodilators (short-acting beta-agonists, long-acting muscarinic antagonists), and inhaled corticosteroids may be added for patients with frequent exacerbations. Smoking cessation, pulmonary rehabilitation, and vaccination against influenza and pneumococcal infections are recommended for all patients with COPD.\",\n",
    "        \"A 29-year-old female presents with recurrent urinary tract infections (UTIs) over the past 6 months. She has had three episodes requiring antibiotics (Trimethoprim-Sulfamethoxazole) and reports dysuria, frequency, and urgency during each episode. The patient has been advised on hygiene measures and has been started on prophylactic antibiotics (Nitrofurantoin 100 mg daily) to prevent future infections. A urine culture is pending to guide further treatment.\",\n",
    "        \"A 60-year-old female with newly diagnosed osteopenia based on a bone density scan (T-score of -1.8). She has been advised to increase her calcium and vitamin D intake through diet and supplements. Weight-bearing exercises have been recommended to improve bone strength, and she has been started on Alendronate 70 mg weekly to prevent progression to osteoporosis. A follow-up bone density scan is scheduled for 2 years later to monitor her bone health.\"\n",
    "    ]\n",
    "\n"
   ]
  },
  {
   "cell_type": "code",
   "execution_count": 17,
   "id": "c870a769-3251-4479-88b8-264bdfcbab17",
   "metadata": {},
   "outputs": [],
   "source": [
    "embeddings = OllamaEmbeddings(\n",
    "    model=\"llama3.1\",\n",
    ")"
   ]
  },
  {
   "cell_type": "code",
   "execution_count": 18,
   "id": "8fdb3270-37f3-4590-a064-6dff9f1aff44",
   "metadata": {},
   "outputs": [],
   "source": [
    "vector_store = Chroma(\n",
    "    collection_name=\"medical_datas\",\n",
    "    embedding_function=embeddings,\n",
    "    persist_directory=\"./chroma_langchain_db\",  # Where to save data locally, remove if not necessary\n",
    ")"
   ]
  },
  {
   "cell_type": "code",
   "execution_count": 50,
   "id": "ef3e46bd-7899-41a7-9ab0-a1ce86c5331a",
   "metadata": {},
   "outputs": [],
   "source": [
    "documents = []\n",
    "for i, knowlegede in enumerate(knowledge_base, 1):\n",
    "    documents.append(Document(\n",
    "        page_content=knowlegede,\n",
    "        metadata={\"source\": \"medical\"},\n",
    "        id=i,\n",
    "    ))"
   ]
  },
  {
   "cell_type": "code",
   "execution_count": null,
   "id": "ce73fa37-8518-441a-876a-7b90264b644d",
   "metadata": {},
   "outputs": [],
   "source": [
    "uuids = [str(uuid4()) for _ in range(len(documents))]\n",
    "vector_store.add_documents(documents=documents, ids=uuids)"
   ]
  },
  {
   "cell_type": "code",
   "execution_count": 19,
   "id": "2bc40fa6-0135-4347-9864-9c89aaa15b48",
   "metadata": {},
   "outputs": [],
   "source": [
    "retriever = vector_store.as_retriever()"
   ]
  },
  {
   "cell_type": "code",
   "execution_count": 8,
   "id": "00a8fd24-67e4-4284-bf1b-7fbc3dd46d41",
   "metadata": {},
   "outputs": [],
   "source": [
    "## Example for testing the inserted data\n",
    "results = vector_store.similarity_search(\n",
    "    \"diabities patient\",\n",
    "    k=2,\n",
    "    filter={\"source\": \"medical\"},\n",
    ")\n"
   ]
  },
  {
   "cell_type": "code",
   "execution_count": null,
   "id": "d600f6a4-569f-47b8-bdcd-9979b9a025f0",
   "metadata": {},
   "outputs": [],
   "source": [
    "for res in results:\n",
    "    print(f\"* {res.page_content} [{res.metadata}]\")\n"
   ]
  },
  {
   "cell_type": "code",
   "execution_count": 20,
   "id": "62248b58-b69c-4862-bf15-fbd0e308aa9a",
   "metadata": {},
   "outputs": [],
   "source": [
    "def format_docs(docs):\n",
    "    return \"\\n\\n\".join(doc.page_content for doc in docs)"
   ]
  },
  {
   "cell_type": "code",
   "execution_count": 21,
   "id": "a06f369c-57e8-4a47-a320-bf0fae0c2a16",
   "metadata": {},
   "outputs": [],
   "source": [
    "SYNTHETIC_TEXT_GENERATION_TEMPLATE = \"\"\"\n",
    "You are an AI language model tasked with generating synthetic medical text based on the User Input and the top relevant medical documents retrieved. \n",
    "Your goal is to create well-structured and realistic medical text derived from the input data.\n",
    "\n",
    "Guidelines:\n",
    "1. Use the provided top medical documents to guide your text generation.\n",
    "2. Ensure the medical text is coherent, realistic, and medically accurate, aligning with real-world medical reports.\n",
    "3. The text should include details about symptoms, diagnosis, possible causes, and relevant treatment options where applicable.\n",
    "4. Balance medical accuracy with readability, ensuring the content is understandable for both healthcare professionals and patients.\n",
    "5. In cases where the medical data is unclear or conflicting, use general medical knowledge to make informed conclusions.\n",
    "\n",
    "User Input: {user_requested_data}\n",
    "\n",
    "Top Medical Documents:\n",
    "{retrieved_data}\n",
    "\n",
    "### Task:\n",
    "- **Generate a Synthetic Medical Report**: Use the provided medical documents and user input to create a synthetic medical text data. \n",
    "\"\"\""
   ]
  },
  {
   "cell_type": "code",
   "execution_count": 22,
   "id": "ff1695c3-b50f-40a5-a75d-51f1ddbfe2bc",
   "metadata": {},
   "outputs": [],
   "source": [
    "custom_rag_prompt = PromptTemplate.from_template(SYNTHETIC_TEXT_GENERATION_TEMPLATE)\n",
    "rag_chain = (\n",
    "    {\"retrieved_data\": retriever | format_docs, \"user_requested_data\": RunnablePassthrough()}\n",
    "    | custom_rag_prompt\n",
    "    | model\n",
    ")"
   ]
  },
  {
   "cell_type": "markdown",
   "id": "c245134f",
   "metadata": {},
   "source": [
    "### Now test the implementation"
   ]
  },
  {
   "cell_type": "code",
   "execution_count": 23,
   "id": "39c4c29c-32ec-4089-8e25-56a4ebefccdb",
   "metadata": {},
   "outputs": [],
   "source": [
    "response = rag_chain.invoke(\"feverish with body ache\")"
   ]
  },
  {
   "cell_type": "code",
   "execution_count": null,
   "id": "902aedc3-91f5-4086-9c70-1650989765a3",
   "metadata": {},
   "outputs": [],
   "source": [
    "print(response)"
   ]
  },
  {
   "cell_type": "code",
   "execution_count": null,
   "id": "3dcef32a-596f-4471-bbb5-a8ea2af1744f",
   "metadata": {},
   "outputs": [],
   "source": []
  },
  {
   "cell_type": "code",
   "execution_count": null,
   "id": "a9fe026e-8d49-4228-b81b-6288db410be1",
   "metadata": {},
   "outputs": [],
   "source": []
  }
 ],
 "metadata": {
  "kernelspec": {
   "display_name": "base",
   "language": "python",
   "name": "python3"
  },
  "language_info": {
   "codemirror_mode": {
    "name": "ipython",
    "version": 3
   },
   "file_extension": ".py",
   "mimetype": "text/x-python",
   "name": "python",
   "nbconvert_exporter": "python",
   "pygments_lexer": "ipython3",
   "version": "3.11.4"
  }
 },
 "nbformat": 4,
 "nbformat_minor": 5
}
